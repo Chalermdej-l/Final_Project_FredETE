{
 "cells": [
  {
   "cell_type": "code",
   "execution_count": 3,
   "metadata": {},
   "outputs": [],
   "source": [
    "import API_helper.url_module as hp\n",
    "import pandas as pd\n",
    "import time\n",
    "\n",
    "import datetime\n",
    "import os\n",
    "from prefect.deployments import Deployment\n",
    "from prefect import flow,task\n",
    "from google.cloud import storage\n",
    "from config import query_bq \n",
    "from prefect_gcp import GcpCredentials\n",
    "# os.environ['GOOGLE_APPLICATION_CREDENTIALS'] = credential.google_cred\n",
    "\n",
    "\n",
    "@task(name='Get_BQ_SQL',log_prints=True)\n",
    "def GetBQdata(query): \n",
    "    gcp_credentials_block = GcpCredentials.load(\"ete-projectcredential\")\n",
    "    df_bq = pd.read_gbq(query=query,\n",
    "    project_id='ete-projectdatatalkclub',\n",
    "    credentials=gcp_credentials_block.get_credentials_from_service_account()\n",
    "    )\n",
    "    return df_bq\n",
    "\n",
    "\n",
    "@task(log_prints=True)\n",
    "def getApiMap(para_regiontype,para_seriesgroup,para_season,para_unit,para_frequency,para_mindate,para_maxdate):\n",
    "\n",
    "        print('Calling the API.')\n",
    "        result = hp.map.regional(\n",
    "            file_type ='json' \\\n",
    "            ,series_group = para_seriesgroup \\\n",
    "            ,region_type = para_regiontype \\\n",
    "            ,date = para_maxdate \\\n",
    "            ,start_date = para_mindate\n",
    "            ,season=para_season \\\n",
    "            ,units=para_unit\n",
    "            ,frequency = para_frequency\n",
    "        )\n",
    "        \n",
    "        if result.ok:\n",
    "            try:\n",
    "                data_all = result.json()\n",
    "                data_date =data_all['meta']['data']\n",
    "                return data_date    \n",
    "\n",
    "            except Exception:\n",
    "                print(f'An error occured {Exception}')\n",
    "                return None\n",
    "\n",
    "        else:\n",
    "            print(f'An error occur {result.status_code}.')\n",
    "            print(f'An error occur {result.content}.')\n",
    "            print('Waiting for 5 sec.')\n",
    "            return 'retry'\n",
    "\n",
    "@task(log_prints=True)\n",
    "def movearchive(bucket,type):\n",
    "    file_acrhive=  list(bucket.list_blobs())\n",
    "    for file in file_acrhive:\n",
    "        name = file.name\n",
    "        pos = name.find('/')\n",
    "        type = name[:pos]\n",
    "        if type == 'staging':\n",
    "            sub_pos = name.find('/',pos+1)\n",
    "            sub_type = name[pos+1:sub_pos]\n",
    "            if sub_type == type:\n",
    "                bucket.copy_blob(file,destination_bucket=bucket,new_name=name.replace('staging','archive'))\n",
    "                bucket.delete_blob(name)    \n",
    "\n",
    " \n",
    "\n"
   ]
  },
  {
   "cell_type": "code",
   "execution_count": null,
   "metadata": {},
   "outputs": [],
   "source": [
    "@flow(log_prints=True)\n",
    "def test():\n",
    "    # series_parameter = getsqldata(query_sql.query_getMapPara)\n",
    "    series_parameter = GetBQdata(query_bq.query_getMapPara)\n",
    "    client = storage.Client()\n",
    "    bucket = client.get_bucket('fred-etedata')\n",
    "    print('Moving file to archive folder')\n",
    "    movearchive(bucket,'map')\n",
    "    time_stamp = datetime.datetime.now().strftime('%Y-%m-%d')\n",
    "    for api_para in series_parameter.values.tolist():\n",
    "        para_regiontype  = api_para[0][0]\n",
    "        para_seriesgroup = api_para[1][0]\n",
    "        para_season      = api_para[2][0]\n",
    "        para_unit        = api_para[3][0]\n",
    "        para_frequency   = api_para[4][0]   \n",
    "        para_mindate     = api_para[5]\n",
    "        para_maxdate     = api_para[6]\n",
    "\n",
    "        retry = 0\n",
    "        while retry <3:\n",
    "            data_date =   getApiMap(para_regiontype,para_seriesgroup,para_season,para_unit, para_frequency,para_mindate,para_maxdate)\n",
    "            if data_date == 'retry':\n",
    "                retry+= 1\n",
    "                print(f'Retry the current call. Current retry {retry}')\n",
    "                continue\n",
    "            elif data_date ==None:\n",
    "                print(f'Skpping the call for {para_seriesgroup}')\n",
    "                continue\n",
    "            else:\n",
    "                break\n",
    "        \n",
    "        if  retry ==3:\n",
    "            print(f'Error occur skipping {para_seriesgroup}')\n",
    "            continue\n",
    "        time_para = para_maxdate.strftime('%Y-%m-%d')\n",
    "        df_map = pd.json_normalize(data_date[time_para])\n",
    "        \n",
    "        \n",
    "        uppload_path =f'staging/map/{time_stamp}/MapData_{para_seriesgroup}_{time_para}.parquet'\n",
    "        print(f'Uploading file to cloud for {para_seriesgroup}')        \n",
    "        bucket.blob(uppload_path).upload_from_string(df_map.to_parquet(), 'text/parquet')\n",
    "\n",
    "\n",
    "        # retry = 0\n",
    "        # while retry <2:\n",
    "        #     try:\n",
    "        #         bucket.blob(uppload_path).upload_from_string(df_map.to_parquet(), 'text/parquet')\n",
    "        #         continue\n",
    "\n",
    "        #     except Exception as err:\n",
    "        #         retry+=1\n",
    "        #         print(f'An error occur while upload file {err}')\n",
    "        #         print(f'Wait for 5 second and retry. Current retry {retry}')\n",
    "        #         time.sleep(5)\n",
    "        time.sleep(1)\n",
    "    print('Finish running the function.')\n",
    "# test()"
   ]
  },
  {
   "cell_type": "code",
   "execution_count": 18,
   "metadata": {},
   "outputs": [
    {
     "name": "stderr",
     "output_type": "stream",
     "text": [
      "c:\\Users\\B\\AppData\\Local\\Programs\\Python\\Python39\\lib\\site-packages\\prefect\\flows.py:206: UserWarning: A flow named 'crdtest' and defined at 'C:\\Users\\B\\AppData\\Local\\Temp/ipykernel_26884/3106566295.py:1' conflicts with another flow. Consider specifying a unique `name` parameter in the flow definition:\n",
      "\n",
      " `@flow(name='my_unique_name', ...)`\n",
      "  warnings.warn(\n"
     ]
    }
   ],
   "source": [
    "@flow\n",
    "def crdtest():\n",
    "    from dotenv import load_dotenv\n",
    "    from prefect_gcp import GcpCredentials\n",
    "\n",
    "    basedir=os.getcwd()\n",
    "    load_dotenv(os.path.join(basedir, './.env'))\n",
    "\n",
    "    gcp_credentials_block = GcpCredentials.load(os.getenv(\"Prefect_Credential\")).get_credentials_from_service_account()\n",
    "    return gcp_credentials_block\n",
    "    os.environ['GOOGLE_APPLICATION_CREDENTIALS'] = gcp_credentials_block.get_credentials_from_service_account()"
   ]
  },
  {
   "cell_type": "code",
   "execution_count": 19,
   "metadata": {},
   "outputs": [
    {
     "data": {
      "text/html": [
       "<pre style=\"white-space:pre;overflow-x:auto;line-height:normal;font-family:Menlo,'DejaVu Sans Mono',consolas,'Courier New',monospace\">12:00:05.627 | <span style=\"color: #008080; text-decoration-color: #008080\">INFO</span>    | prefect.engine - Created flow run<span style=\"color: #800080; text-decoration-color: #800080\"> 'masked-foxhound'</span> for flow<span style=\"color: #800080; text-decoration-color: #800080; font-weight: bold\"> 'crdtest'</span>\n",
       "</pre>\n"
      ],
      "text/plain": [
       "12:00:05.627 | \u001b[36mINFO\u001b[0m    | prefect.engine - Created flow run\u001b[35m 'masked-foxhound'\u001b[0m for flow\u001b[1;35m 'crdtest'\u001b[0m\n"
      ]
     },
     "metadata": {},
     "output_type": "display_data"
    },
    {
     "data": {
      "text/html": [
       "<pre style=\"white-space:pre;overflow-x:auto;line-height:normal;font-family:Menlo,'DejaVu Sans Mono',consolas,'Courier New',monospace\">12:00:15.195 | <span style=\"color: #008080; text-decoration-color: #008080\">INFO</span>    | Flow run<span style=\"color: #800080; text-decoration-color: #800080\"> 'masked-foxhound'</span> - Finished in state <span style=\"color: #008000; text-decoration-color: #008000\">Completed</span>()\n",
       "</pre>\n"
      ],
      "text/plain": [
       "12:00:15.195 | \u001b[36mINFO\u001b[0m    | Flow run\u001b[35m 'masked-foxhound'\u001b[0m - Finished in state \u001b[32mCompleted\u001b[0m()\n"
      ]
     },
     "metadata": {},
     "output_type": "display_data"
    }
   ],
   "source": [
    "cred =crdtest()"
   ]
  },
  {
   "cell_type": "code",
   "execution_count": 32,
   "metadata": {},
   "outputs": [
    {
     "data": {
      "text/plain": [
       "{'token': None,\n",
       " 'expiry': None,\n",
       " '_quota_project_id': None,\n",
       " '_scopes': ['https://www.googleapis.com/auth/cloud-platform'],\n",
       " '_default_scopes': None,\n",
       " '_signer': <google.auth.crypt._cryptography_rsa.RSASigner at 0x1ce42db3f40>,\n",
       " '_service_account_email': 'ete-projectdatatalkclub@ete-projectdatatalkclub.iam.gserviceaccount.com',\n",
       " '_subject': None,\n",
       " '_project_id': 'ete-projectdatatalkclub',\n",
       " '_token_uri': 'https://oauth2.googleapis.com/token',\n",
       " '_always_use_jwt_access': False,\n",
       " '_jwt_credentials': None,\n",
       " '_additional_claims': {}}"
      ]
     },
     "execution_count": 32,
     "metadata": {},
     "output_type": "execute_result"
    }
   ],
   "source": [
    "cred.__dict__"
   ]
  },
  {
   "cell_type": "code",
   "execution_count": 33,
   "metadata": {},
   "outputs": [
    {
     "ename": "TypeError",
     "evalue": "str expected, not dict_items",
     "output_type": "error",
     "traceback": [
      "\u001b[1;31m---------------------------------------------------------------------------\u001b[0m",
      "\u001b[1;31mTypeError\u001b[0m                                 Traceback (most recent call last)",
      "\u001b[1;32m~\\AppData\\Local\\Temp/ipykernel_26884/850869501.py\u001b[0m in \u001b[0;36m<module>\u001b[1;34m\u001b[0m\n\u001b[1;32m----> 1\u001b[1;33m \u001b[0mos\u001b[0m\u001b[1;33m.\u001b[0m\u001b[0menviron\u001b[0m\u001b[1;33m[\u001b[0m\u001b[1;34m'GOOGLE_APPLICATION_CREDENTIALS'\u001b[0m\u001b[1;33m]\u001b[0m \u001b[1;33m=\u001b[0m \u001b[0mcred\u001b[0m\u001b[1;33m.\u001b[0m\u001b[0m__dict__\u001b[0m\u001b[1;33m.\u001b[0m\u001b[0mitems\u001b[0m\u001b[1;33m(\u001b[0m\u001b[1;33m)\u001b[0m\u001b[1;33m\u001b[0m\u001b[1;33m\u001b[0m\u001b[0m\n\u001b[0m",
      "\u001b[1;32mc:\\Users\\B\\AppData\\Local\\Programs\\Python\\Python39\\lib\\os.py\u001b[0m in \u001b[0;36m__setitem__\u001b[1;34m(self, key, value)\u001b[0m\n\u001b[0;32m    682\u001b[0m     \u001b[1;32mdef\u001b[0m \u001b[0m__setitem__\u001b[0m\u001b[1;33m(\u001b[0m\u001b[0mself\u001b[0m\u001b[1;33m,\u001b[0m \u001b[0mkey\u001b[0m\u001b[1;33m,\u001b[0m \u001b[0mvalue\u001b[0m\u001b[1;33m)\u001b[0m\u001b[1;33m:\u001b[0m\u001b[1;33m\u001b[0m\u001b[1;33m\u001b[0m\u001b[0m\n\u001b[0;32m    683\u001b[0m         \u001b[0mkey\u001b[0m \u001b[1;33m=\u001b[0m \u001b[0mself\u001b[0m\u001b[1;33m.\u001b[0m\u001b[0mencodekey\u001b[0m\u001b[1;33m(\u001b[0m\u001b[0mkey\u001b[0m\u001b[1;33m)\u001b[0m\u001b[1;33m\u001b[0m\u001b[1;33m\u001b[0m\u001b[0m\n\u001b[1;32m--> 684\u001b[1;33m         \u001b[0mvalue\u001b[0m \u001b[1;33m=\u001b[0m \u001b[0mself\u001b[0m\u001b[1;33m.\u001b[0m\u001b[0mencodevalue\u001b[0m\u001b[1;33m(\u001b[0m\u001b[0mvalue\u001b[0m\u001b[1;33m)\u001b[0m\u001b[1;33m\u001b[0m\u001b[1;33m\u001b[0m\u001b[0m\n\u001b[0m\u001b[0;32m    685\u001b[0m         \u001b[0mputenv\u001b[0m\u001b[1;33m(\u001b[0m\u001b[0mkey\u001b[0m\u001b[1;33m,\u001b[0m \u001b[0mvalue\u001b[0m\u001b[1;33m)\u001b[0m\u001b[1;33m\u001b[0m\u001b[1;33m\u001b[0m\u001b[0m\n\u001b[0;32m    686\u001b[0m         \u001b[0mself\u001b[0m\u001b[1;33m.\u001b[0m\u001b[0m_data\u001b[0m\u001b[1;33m[\u001b[0m\u001b[0mkey\u001b[0m\u001b[1;33m]\u001b[0m \u001b[1;33m=\u001b[0m \u001b[0mvalue\u001b[0m\u001b[1;33m\u001b[0m\u001b[1;33m\u001b[0m\u001b[0m\n",
      "\u001b[1;32mc:\\Users\\B\\AppData\\Local\\Programs\\Python\\Python39\\lib\\os.py\u001b[0m in \u001b[0;36mcheck_str\u001b[1;34m(value)\u001b[0m\n\u001b[0;32m    740\u001b[0m         \u001b[1;32mdef\u001b[0m \u001b[0mcheck_str\u001b[0m\u001b[1;33m(\u001b[0m\u001b[0mvalue\u001b[0m\u001b[1;33m)\u001b[0m\u001b[1;33m:\u001b[0m\u001b[1;33m\u001b[0m\u001b[1;33m\u001b[0m\u001b[0m\n\u001b[0;32m    741\u001b[0m             \u001b[1;32mif\u001b[0m \u001b[1;32mnot\u001b[0m \u001b[0misinstance\u001b[0m\u001b[1;33m(\u001b[0m\u001b[0mvalue\u001b[0m\u001b[1;33m,\u001b[0m \u001b[0mstr\u001b[0m\u001b[1;33m)\u001b[0m\u001b[1;33m:\u001b[0m\u001b[1;33m\u001b[0m\u001b[1;33m\u001b[0m\u001b[0m\n\u001b[1;32m--> 742\u001b[1;33m                 \u001b[1;32mraise\u001b[0m \u001b[0mTypeError\u001b[0m\u001b[1;33m(\u001b[0m\u001b[1;34m\"str expected, not %s\"\u001b[0m \u001b[1;33m%\u001b[0m \u001b[0mtype\u001b[0m\u001b[1;33m(\u001b[0m\u001b[0mvalue\u001b[0m\u001b[1;33m)\u001b[0m\u001b[1;33m.\u001b[0m\u001b[0m__name__\u001b[0m\u001b[1;33m)\u001b[0m\u001b[1;33m\u001b[0m\u001b[1;33m\u001b[0m\u001b[0m\n\u001b[0m\u001b[0;32m    743\u001b[0m             \u001b[1;32mreturn\u001b[0m \u001b[0mvalue\u001b[0m\u001b[1;33m\u001b[0m\u001b[1;33m\u001b[0m\u001b[0m\n\u001b[0;32m    744\u001b[0m         \u001b[0mencode\u001b[0m \u001b[1;33m=\u001b[0m \u001b[0mcheck_str\u001b[0m\u001b[1;33m\u001b[0m\u001b[1;33m\u001b[0m\u001b[0m\n",
      "\u001b[1;31mTypeError\u001b[0m: str expected, not dict_items"
     ]
    }
   ],
   "source": [
    "os.environ['GOOGLE_APPLICATION_CREDENTIALS'] = cred.__dict__.items()\n"
   ]
  },
  {
   "cell_type": "code",
   "execution_count": 23,
   "metadata": {},
   "outputs": [
    {
     "data": {
      "text/plain": [
       "<google.oauth2.service_account.Credentials at 0x1ce42db3160>"
      ]
     },
     "execution_count": 23,
     "metadata": {},
     "output_type": "execute_result"
    }
   ],
   "source": [
    "cred"
   ]
  },
  {
   "cell_type": "code",
   "execution_count": null,
   "metadata": {},
   "outputs": [],
   "source": [
    "\n",
    "file_acrhive=  list(bucket.list_blobs())\n",
    "for file in file_acrhive:\n",
    "    name = file.name\n",
    "    pos = name.find('/')\n",
    "    type = name[:pos]\n",
    "    if type == 'staging':\n",
    "        sub_pos = name.find('/',pos+1)\n",
    "        sub_type = name[pos+1:sub_pos]\n",
    "        if sub_type == type:\n",
    "            bucket.copy_blob(file,destination_bucket=bucket,new_name=name.replace('staging','archive'))\n",
    "            bucket.delete_blob(name)   "
   ]
  },
  {
   "cell_type": "code",
   "execution_count": null,
   "metadata": {},
   "outputs": [],
   "source": [
    "from dotenv import load_dotenv\n",
    "\n",
    "\n",
    "basedir=os.getcwd()[:-5]\n",
    "load_dotenv(os.path.join(basedir, './.env'))"
   ]
  },
  {
   "cell_type": "code",
   "execution_count": null,
   "metadata": {},
   "outputs": [],
   "source": [
    "from prefect_gcp.cloud_storage import GcsBucket\n",
    "\n",
    "@flow(name='my_unique_name')\n",
    "def test():\n",
    "    gcp_cloud_storage_bucket_block = GcsBucket.load(\"ete-project-gcs\")\n",
    "    gcp_cloud_storage_bucket_block.UPLOAD_FROM_DATAFRAME()"
   ]
  },
  {
   "cell_type": "code",
   "execution_count": null,
   "metadata": {},
   "outputs": [],
   "source": [
    "test()"
   ]
  },
  {
   "cell_type": "code",
   "execution_count": null,
   "metadata": {},
   "outputs": [],
   "source": [
    "gcp_cloud_storage_bucket_block.UPLOAD_FROM_DATAFRAME()"
   ]
  },
  {
   "cell_type": "code",
   "execution_count": null,
   "metadata": {},
   "outputs": [],
   "source": [
    "os.getenv(\"Prefect_Credential\")"
   ]
  },
  {
   "cell_type": "code",
   "execution_count": null,
   "metadata": {},
   "outputs": [],
   "source": [
    "from prefect_gcp.credentials import GcpCredentials\n",
    "from prefect import flow,task\n",
    "@flow()\n",
    "def test():\n",
    "    gcp_credentials_block = GcpCredentials.load(\"ete-projectcredential\")\n",
    "    gcp_credentials_block.get_credentials_from_service_account()\n",
    "    print(gcp_credentials_block)"
   ]
  },
  {
   "cell_type": "code",
   "execution_count": null,
   "metadata": {},
   "outputs": [],
   "source": [
    "test()"
   ]
  },
  {
   "cell_type": "code",
   "execution_count": null,
   "metadata": {},
   "outputs": [],
   "source": [
    "def create_bigquery_client():\n",
    "    gcp_credentials_block = GcpCredentials.load(\"BLOCK_NAME\")\n",
    "    google_auth_credentials = gcp_credentials_block.get_credentials_from_service_account()\n",
    "    bigquery_client = bigquery.Client(credentials=google_auth_credentials)"
   ]
  },
  {
   "cell_type": "code",
   "execution_count": null,
   "metadata": {},
   "outputs": [],
   "source": [
    "GcpCredentials.get_credentials_from_service_account()"
   ]
  },
  {
   "cell_type": "code",
   "execution_count": null,
   "metadata": {},
   "outputs": [],
   "source": [
    "gcp_credentials_block.client_type()"
   ]
  },
  {
   "cell_type": "code",
   "execution_count": null,
   "metadata": {},
   "outputs": [],
   "source": [
    "gcp_credentials_block.service_account_file()"
   ]
  },
  {
   "cell_type": "code",
   "execution_count": null,
   "metadata": {},
   "outputs": [],
   "source": [
    "from prefect_gcp.secret_manager import read_secret"
   ]
  },
  {
   "cell_type": "code",
   "execution_count": null,
   "metadata": {},
   "outputs": [],
   "source": [
    "from prefect_gcp import GcpCredentials\n",
    "gcp_credentials_block = GcpCredentials.load(\"ete-projectcredential\")"
   ]
  },
  {
   "cell_type": "code",
   "execution_count": null,
   "metadata": {},
   "outputs": [],
   "source": [
    "gcp_credentials_block"
   ]
  },
  {
   "cell_type": "code",
   "execution_count": null,
   "metadata": {},
   "outputs": [],
   "source": [
    "from prefect import flow\n",
    "from prefect_gcp import GcpCredentials\n",
    "from prefect_gcp.secret_manager import read_secret\n",
    "\n",
    "@flow()\n",
    "def example_cloud_storage_read_secret_flow():\n",
    "    gcp_credentials = GcpCredentials.load(\"ete-projectcredential\")\n",
    "    secret_value = read_secret(\"secret_name\", gcp_credentials, version_id=1)\n",
    "    return secret_value\n",
    "\n",
    "example_cloud_storage_read_secret_flow()\n"
   ]
  },
  {
   "cell_type": "code",
   "execution_count": 36,
   "metadata": {},
   "outputs": [
    {
     "name": "stderr",
     "output_type": "stream",
     "text": [
      "c:\\Users\\B\\AppData\\Local\\Programs\\Python\\Python39\\lib\\site-packages\\prefect\\tasks.py:261: UserWarning: A task named 'movearchive' and defined at 'C:\\Users\\B\\AppData\\Local\\Temp/ipykernel_26884/3894628622.py:13' conflicts with another task. Consider specifying a unique `name` parameter in the task definition:\n",
      "\n",
      " `@task(name='my_unique_name', ...)`\n",
      "  warnings.warn(\n",
      "c:\\Users\\B\\AppData\\Local\\Programs\\Python\\Python39\\lib\\site-packages\\prefect\\flows.py:206: UserWarning: A flow named 'main' and defined at 'C:\\Users\\B\\AppData\\Local\\Temp/ipykernel_26884/3894628622.py:27' conflicts with another flow. Consider specifying a unique `name` parameter in the flow definition:\n",
      "\n",
      " `@flow(name='my_unique_name', ...)`\n",
      "  warnings.warn(\n"
     ]
    }
   ],
   "source": [
    "import API_helper.url_module as hp\n",
    "import pandas as pd\n",
    "import datetime\n",
    "import time\n",
    "import os\n",
    "from prefect import flow,task\n",
    "from google.cloud import storage\n",
    "from config import query_bq,clean_df\n",
    "from prefect.deployments import Deployment\n",
    "from prefect_gcp import GcpCredentials\n",
    "from dotenv import load_dotenv\n",
    "\n",
    "@task(log_prints=True)\n",
    "def movearchive(bucket,typecheck):\n",
    "    file_acrhive=  list(bucket.list_blobs())\n",
    "    return file_acrhive\n",
    "    for file in file_acrhive:\n",
    "        name = file.name\n",
    "        pos = name.find('/')\n",
    "        type = name[:pos]\n",
    "        if type == 'staging':\n",
    "            sub_pos = name.find('/',pos+1)\n",
    "            sub_type = name[pos+1:sub_pos]\n",
    "            if sub_type == type:\n",
    "                bucket.copy_blob(file,destination_bucket=bucket,new_name=name.replace('staging','archive'))\n",
    "                bucket.delete_blob(name)    \n",
    "@flow(log_prints=True)\n",
    "def main():\n",
    "    basedir=os.getcwd()\n",
    "    load_dotenv(os.path.join(basedir, './.env'))\n",
    "    gcp_credentials_block = GcpCredentials.load(os.getenv(\"Prefect_Credential\"))\n",
    "\n",
    "    # Get series id base on cat id\n",
    "    client = storage.Client(credentials=gcp_credentials_block.get_credentials_from_service_account())\n",
    "    bucket = client.get_bucket(os.getenv(\"Gcs_Bucket_name\"))\n",
    "    \n",
    "    a =movearchive(bucket,'series')\n",
    "    return a"
   ]
  },
  {
   "cell_type": "code",
   "execution_count": 37,
   "metadata": {},
   "outputs": [
    {
     "data": {
      "text/html": [
       "<pre style=\"white-space:pre;overflow-x:auto;line-height:normal;font-family:Menlo,'DejaVu Sans Mono',consolas,'Courier New',monospace\">14:31:55.592 | <span style=\"color: #008080; text-decoration-color: #008080\">INFO</span>    | prefect.engine - Created flow run<span style=\"color: #800080; text-decoration-color: #800080\"> 'uptight-iguana'</span> for flow<span style=\"color: #800080; text-decoration-color: #800080; font-weight: bold\"> 'main'</span>\n",
       "</pre>\n"
      ],
      "text/plain": [
       "14:31:55.592 | \u001b[36mINFO\u001b[0m    | prefect.engine - Created flow run\u001b[35m 'uptight-iguana'\u001b[0m for flow\u001b[1;35m 'main'\u001b[0m\n"
      ]
     },
     "metadata": {},
     "output_type": "display_data"
    },
    {
     "data": {
      "text/html": [
       "<pre style=\"white-space:pre;overflow-x:auto;line-height:normal;font-family:Menlo,'DejaVu Sans Mono',consolas,'Courier New',monospace\">14:31:58.999 | <span style=\"color: #008080; text-decoration-color: #008080\">INFO</span>    | Flow run<span style=\"color: #800080; text-decoration-color: #800080\"> 'uptight-iguana'</span> - Created task run 'movearchive-bd30040c-0' for task 'movearchive'\n",
       "</pre>\n"
      ],
      "text/plain": [
       "14:31:58.999 | \u001b[36mINFO\u001b[0m    | Flow run\u001b[35m 'uptight-iguana'\u001b[0m - Created task run 'movearchive-bd30040c-0' for task 'movearchive'\n"
      ]
     },
     "metadata": {},
     "output_type": "display_data"
    },
    {
     "data": {
      "text/html": [
       "<pre style=\"white-space:pre;overflow-x:auto;line-height:normal;font-family:Menlo,'DejaVu Sans Mono',consolas,'Courier New',monospace\">14:31:59.000 | <span style=\"color: #008080; text-decoration-color: #008080\">INFO</span>    | Flow run<span style=\"color: #800080; text-decoration-color: #800080\"> 'uptight-iguana'</span> - Executing 'movearchive-bd30040c-0' immediately...\n",
       "</pre>\n"
      ],
      "text/plain": [
       "14:31:59.000 | \u001b[36mINFO\u001b[0m    | Flow run\u001b[35m 'uptight-iguana'\u001b[0m - Executing 'movearchive-bd30040c-0' immediately...\n"
      ]
     },
     "metadata": {},
     "output_type": "display_data"
    },
    {
     "data": {
      "text/html": [
       "<pre style=\"white-space:pre;overflow-x:auto;line-height:normal;font-family:Menlo,'DejaVu Sans Mono',consolas,'Courier New',monospace\">14:32:01.738 | <span style=\"color: #008080; text-decoration-color: #008080\">INFO</span>    | Task run 'movearchive-bd30040c-0' - Finished in state <span style=\"color: #008000; text-decoration-color: #008000\">Completed</span>()\n",
       "</pre>\n"
      ],
      "text/plain": [
       "14:32:01.738 | \u001b[36mINFO\u001b[0m    | Task run 'movearchive-bd30040c-0' - Finished in state \u001b[32mCompleted\u001b[0m()\n"
      ]
     },
     "metadata": {},
     "output_type": "display_data"
    },
    {
     "data": {
      "text/html": [
       "<pre style=\"white-space:pre;overflow-x:auto;line-height:normal;font-family:Menlo,'DejaVu Sans Mono',consolas,'Courier New',monospace\">14:32:02.128 | <span style=\"color: #008080; text-decoration-color: #008080\">INFO</span>    | Flow run<span style=\"color: #800080; text-decoration-color: #800080\"> 'uptight-iguana'</span> - Finished in state <span style=\"color: #008000; text-decoration-color: #008000\">Completed</span>()\n",
       "</pre>\n"
      ],
      "text/plain": [
       "14:32:02.128 | \u001b[36mINFO\u001b[0m    | Flow run\u001b[35m 'uptight-iguana'\u001b[0m - Finished in state \u001b[32mCompleted\u001b[0m()\n"
      ]
     },
     "metadata": {},
     "output_type": "display_data"
    }
   ],
   "source": [
    "list = main()\n"
   ]
  },
  {
   "cell_type": "code",
   "execution_count": 41,
   "metadata": {},
   "outputs": [],
   "source": [
    "typecheck ='series'"
   ]
  },
  {
   "cell_type": "code",
   "execution_count": 43,
   "metadata": {},
   "outputs": [
    {
     "data": {
      "text/plain": [
       "'series'"
      ]
     },
     "execution_count": 43,
     "metadata": {},
     "output_type": "execute_result"
    }
   ],
   "source": [
    "typecheck"
   ]
  },
  {
   "cell_type": "code",
   "execution_count": 44,
   "metadata": {},
   "outputs": [
    {
     "name": "stdout",
     "output_type": "stream",
     "text": [
      "<Blob: fred-etedata, staging/series/2023-04-13/SeriesData_2023-04-13.parquet, 1681374060249854>\n",
      "<Blob: fred-etedata, staging/series/2023-04-14/SeriesData_2023-04-14.parquet, 1681450421298097>\n"
     ]
    }
   ],
   "source": [
    "for file in list:\n",
    "        name = file.name\n",
    "        pos = name.find('/')\n",
    "        type = name[:pos]\n",
    "        if type == 'staging':\n",
    "            sub_pos = name.find('/',pos+1)\n",
    "            sub_type = name[pos+1:sub_pos]\n",
    "            if sub_type == typecheck:\n",
    "                print(file)\n",
    "                # bucket.copy_blob(file,destination_bucket=bucket,new_name=name.replace('staging','archive'))\n",
    "                # bucket.delete_blob(name)    "
   ]
  }
 ],
 "metadata": {
  "kernelspec": {
   "display_name": "Python 3.9.7 64-bit",
   "language": "python",
   "name": "python3"
  },
  "language_info": {
   "codemirror_mode": {
    "name": "ipython",
    "version": 3
   },
   "file_extension": ".py",
   "mimetype": "text/x-python",
   "name": "python",
   "nbconvert_exporter": "python",
   "pygments_lexer": "ipython3",
   "version": "3.9.7"
  },
  "orig_nbformat": 4,
  "vscode": {
   "interpreter": {
    "hash": "601b049b69c015f341cf049bdfa863242bcd463fff4e9ea5ae96948b9f5d87db"
   }
  }
 },
 "nbformat": 4,
 "nbformat_minor": 2
}
